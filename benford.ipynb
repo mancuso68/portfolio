{
  "nbformat": 4,
  "nbformat_minor": 0,
  "metadata": {
    "colab": {
      "name": "benford.ipynb",
      "provenance": [],
      "collapsed_sections": [],
      "authorship_tag": "ABX9TyOcgu94SukvUc8CPpGnoLYM",
      "include_colab_link": true
    },
    "kernelspec": {
      "name": "python3",
      "display_name": "Python 3"
    }
  },
  "cells": [
    {
      "cell_type": "markdown",
      "metadata": {
        "id": "view-in-github",
        "colab_type": "text"
      },
      "source": [
        "<a href=\"https://colab.research.google.com/github/mancuso68/projetos/blob/main/benford.ipynb\" target=\"_parent\"><img src=\"https://colab.research.google.com/assets/colab-badge.svg\" alt=\"Open In Colab\"/></a>"
      ]
    },
    {
      "cell_type": "markdown",
      "metadata": {
        "id": "iN56fo_m22yC"
      },
      "source": [
        "#Lei de Benford\r\n",
        "Por: `Luciano Mancuso da Cunha` - *luciano.mancuso@gmail.com*\r\n",
        "\r\n",
        "---\r\n",
        "Nesse estudo serão testados vários datasets diferentes para validação seguindo os princípios da **Lei de Benford**.\r\n",
        "\r\n",
        "A **Lei de Benford**, também conhecida com Lei do Primeiro Dígito, consiste em retirar o primeiro dígito de uma sequência númérica e separá-los conforme seu valor, variando de 1 até 9. Depois disso, é feito um cálculo percentual da quantidade de cada dígito em relação ao volume total da amostra.[texto do link](https://)\r\n",
        "\r\n",
        "Para validação dos dados, o percentual de ocorrência de cada dígito deve estar próximo do seguinte cálculo:\r\n",
        "\r\n",
        "**log10(1+1/n)**, onde **n** é o primeiro dígito.\r\n",
        "\r\n",
        "![Tabela Benford.jpg](data:image/jpeg;base64,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)"
      ]
    },
    {
      "cell_type": "code",
      "metadata": {
        "id": "9CLD1pbp2ZDr"
      },
      "source": [
        "# importar os pacotes necessarios\r\n",
        "import pandas as pd\r\n",
        "import matplotlib.pyplot as plt\r\n",
        "import seaborn as sns\r\n",
        "\r\n",
        "%matplotlib inline"
      ],
      "execution_count": 114,
      "outputs": []
    },
    {
      "cell_type": "markdown",
      "metadata": {
        "id": "x_CyoCxw5qB4"
      },
      "source": [
        "##Base de dados do AirBnb\r\n",
        "O Airbnb possui uma base de dados compartilhada com informações das principais cidades do mundo. Por meio do portal [Inside Airbnb](http://insideairbnb.com/get-the-data.html).\r\n",
        "\r\n",
        "Para esse estudo vou utilizar o arquivo *listing.csv*\r\n",
        "\r\n",
        "Recentemente fiz uma análise simples de uma base de dados do AirBnb para a cidade de Sydney. Aqui vou buscar também a base de dados do Rio de Janeiro, Tokyo, Londres e Cidade do Cabo.\r\n",
        "\r\n",
        "O Dataframe possui 16 colunas conforme abaixo:\r\n",
        "\r\n",
        "**Dicionário das variáveis**\r\n",
        "\r\n",
        "* `id` - Número de Id, identificação única do Imóvel. Provavelmente Chave Primária de uma tabela\r\n",
        "* `name` - Nome da propriedade\r\n",
        "* `host_id` - Número de Id do priprietário\r\n",
        "* `host_name` - Nome do proprietário\r\n",
        "* `neighbourhood_group` - Esse campo não será usado no trabalho. Está preenchido com valores nulos\r\n",
        "* `neighbourhood` - Barro onde o imóvel está localizado\r\n",
        "* `latitude` - Coordenada GPS da latitude do imóvel\r\n",
        "* `longitude` - Coordenada GPS de longitude do imóvel\r\n",
        "* `room_type`- Tipo de imóvel oferecido para locação\r\n",
        "* `price` - Preço de aluguel do imóvel\r\n",
        "* `minimum_nights` - Quantidade mínima de diárias para locação\r\n",
        "* `number_of_reviews` - Número de avaliações\r\n",
        "* `last_review`- Data da última avaliação\r\n",
        "* `reviews_per_month`- Avaliações por mês\r\n",
        "* `calculated_host_listings_count` - Contágem de Imóveis do mesmo proprietário\r\n",
        "* `availability_365`- dias diaponiveis no interválo de um ano\r\n",
        "\r\n",
        "Para esse estudo vou utilizar apenas uma coluna. É preciso consider uma coluna que contenha valores aleatórios sem definição de um intervalo de dados. Para esse caso, considerei a coluna de preço (*price*)"
      ]
    },
    {
      "cell_type": "markdown",
      "metadata": {
        "id": "lA9t4B39VIp3"
      },
      "source": [
        "##Dataframe de Análise\r\n",
        "O Dataframe da análise para cada país deverá conter 4 colunas:\r\n",
        "\r\n",
        "* `primeiro digito`- Primeiro dígito (1 até 9)\r\n",
        "* `benford`- Valores percentuais da Lei de Benford calculados conforme a fórmula **log10(1+1/n)**\r\n",
        "* `total do digito` - quantidade de vezes que o dígito aparece no Dataframe original\r\n",
        "* `percentual do digito` - Percentual que o dígito representa no total da amostra\r\n",
        "\r\n",
        "Inicialmente montei uma função que carrega o Datarame do AirBnb e monta o Dataset de Análise."
      ]
    },
    {
      "cell_type": "code",
      "metadata": {
        "id": "aV_J3gvQ__HN"
      },
      "source": [
        "#Montando uma função para criar um dataframe com os dados resumidos\r\n",
        "def monta_benford(path):\r\n",
        "\r\n",
        "  #criando dicionário com dados já conhecidos de benford\r\n",
        "  benford_dict={\r\n",
        "      \"primeiro digito\":[1,2,3,4,5,6,7,8,9],\r\n",
        "      \"benford\":[30.1,17.6,12.5,9.7,7.9,6.7,5.8,5.1,4.6]\r\n",
        "  }\r\n",
        "\r\n",
        "  #Criando o Dataframe de análise a partir do Dicionário\r\n",
        "  benford_res=pd.DataFrame(benford_dict)\r\n",
        "\r\n",
        "  #carregando o Dataframe do AirBnb conforme caminho indicado\r\n",
        "  data=pd.read_csv(path)\r\n",
        "\r\n",
        "  # carregando total de registros do Dataframe na variável totreg\r\n",
        "  totreg = data.shape[0]\r\n",
        "\r\n",
        "  #Zerando as variáveis contadoras dos dígitos\r\n",
        "  d1, d2, d3, d4, d5, d6, d7, d8, d9 = 0,0,0,0,0,0,0,0,0\r\n",
        "\r\n",
        "  #For para varrer o campo price de todo Dataset o fazer a contagem dos dígitos\r\n",
        "  for i in range(totreg):\r\n",
        "    dig=str(data['price'][i])\r\n",
        "    p_dig=dig[0]\r\n",
        "    if p_dig=='1':\r\n",
        "      d1+=1\r\n",
        "    elif p_dig=='2':\r\n",
        "      d2+=1\r\n",
        "    elif p_dig=='3':\r\n",
        "      d3+=1\r\n",
        "    elif p_dig=='4':\r\n",
        "      d4+=1\r\n",
        "    elif p_dig=='5':\r\n",
        "      d5+=1\r\n",
        "    elif p_dig=='6':\r\n",
        "      d6+=1\r\n",
        "    elif p_dig=='7':\r\n",
        "      d7+=1\r\n",
        "    elif p_dig=='8':\r\n",
        "      d8+=1\r\n",
        "    elif p_dig=='9':\r\n",
        "      d9+=1\r\n",
        "\r\n",
        "  #Calculando o total de todos os dígitos\r\n",
        "  dtot=d1+d2+d3+d4+d5+d6+d7+d8+d9\r\n",
        "\r\n",
        "  #Inserindo as colunas totdigito e percdigito\r\n",
        "  benford_res['total do digito']=[d1,d2,d3,d4,d5,d6,d7,d8,d9]\r\n",
        "  benford_res['percentual do digito']=[d1/dtot*100,d2/dtot*100,d3/dtot*100,d4/dtot*100,d5/dtot*100,d6/dtot*100,d7/dtot*100,d8/dtot*100,d9/dtot*100]\r\n",
        "\r\n",
        "  return benford_res"
      ],
      "execution_count": 140,
      "outputs": []
    },
    {
      "cell_type": "code",
      "metadata": {
        "id": "TaYSqdGmBsld"
      },
      "source": [
        "#Criando os Datasets de análise para cada cidade\r\n",
        "df_cabo = monta_benford(\"http://data.insideairbnb.com/south-africa/wc/cape-town/2021-01-30/visualisations/listings.csv\")\r\n",
        "df_rio = monta_benford(\"http://data.insideairbnb.com/brazil/rj/rio-de-janeiro/2021-01-26/visualisations/listings.csv\")\r\n",
        "df_londres = monta_benford(\"http://data.insideairbnb.com/united-kingdom/england/london/2021-02-09/visualisations/listings.csv\")\r\n",
        "df_sydney = monta_benford(\"http://data.insideairbnb.com/australia/nsw/sydney/2021-02-08/visualisations/listings.csv\")\r\n",
        "df_tokyo = monta_benford(\"http://data.insideairbnb.com/japan/kant%C5%8D/tokyo/2021-01-27/visualisations/listings.csv\")"
      ],
      "execution_count": 141,
      "outputs": []
    },
    {
      "cell_type": "markdown",
      "metadata": {
        "id": "BGiqUNXr8KqH"
      },
      "source": [
        "Após criar os Datasets, passei para a verificação das 9 entradas de cada um deles."
      ]
    },
    {
      "cell_type": "code",
      "metadata": {
        "colab": {
          "base_uri": "https://localhost:8080/",
          "height": 327
        },
        "id": "atzER_ILCbtB",
        "outputId": "b067bb99-55e9-4d29-f4b7-67103c8b984b"
      },
      "source": [
        "df_cabo.head(9)"
      ],
      "execution_count": 142,
      "outputs": [
        {
          "output_type": "execute_result",
          "data": {
            "text/html": [
              "<div>\n",
              "<style scoped>\n",
              "    .dataframe tbody tr th:only-of-type {\n",
              "        vertical-align: middle;\n",
              "    }\n",
              "\n",
              "    .dataframe tbody tr th {\n",
              "        vertical-align: top;\n",
              "    }\n",
              "\n",
              "    .dataframe thead th {\n",
              "        text-align: right;\n",
              "    }\n",
              "</style>\n",
              "<table border=\"1\" class=\"dataframe\">\n",
              "  <thead>\n",
              "    <tr style=\"text-align: right;\">\n",
              "      <th></th>\n",
              "      <th>primeiro digito</th>\n",
              "      <th>benford</th>\n",
              "      <th>total do digito</th>\n",
              "      <th>percentual do digito</th>\n",
              "    </tr>\n",
              "  </thead>\n",
              "  <tbody>\n",
              "    <tr>\n",
              "      <th>0</th>\n",
              "      <td>1</td>\n",
              "      <td>30.1</td>\n",
              "      <td>5456</td>\n",
              "      <td>28.513196</td>\n",
              "    </tr>\n",
              "    <tr>\n",
              "      <th>1</th>\n",
              "      <td>2</td>\n",
              "      <td>17.6</td>\n",
              "      <td>2618</td>\n",
              "      <td>13.681735</td>\n",
              "    </tr>\n",
              "    <tr>\n",
              "      <th>2</th>\n",
              "      <td>3</td>\n",
              "      <td>12.5</td>\n",
              "      <td>1963</td>\n",
              "      <td>10.258688</td>\n",
              "    </tr>\n",
              "    <tr>\n",
              "      <th>3</th>\n",
              "      <td>4</td>\n",
              "      <td>9.7</td>\n",
              "      <td>1797</td>\n",
              "      <td>9.391168</td>\n",
              "    </tr>\n",
              "    <tr>\n",
              "      <th>4</th>\n",
              "      <td>5</td>\n",
              "      <td>7.9</td>\n",
              "      <td>1760</td>\n",
              "      <td>9.197805</td>\n",
              "    </tr>\n",
              "    <tr>\n",
              "      <th>5</th>\n",
              "      <td>6</td>\n",
              "      <td>6.7</td>\n",
              "      <td>1588</td>\n",
              "      <td>8.298929</td>\n",
              "    </tr>\n",
              "    <tr>\n",
              "      <th>6</th>\n",
              "      <td>7</td>\n",
              "      <td>5.8</td>\n",
              "      <td>1419</td>\n",
              "      <td>7.415730</td>\n",
              "    </tr>\n",
              "    <tr>\n",
              "      <th>7</th>\n",
              "      <td>8</td>\n",
              "      <td>5.1</td>\n",
              "      <td>1324</td>\n",
              "      <td>6.919258</td>\n",
              "    </tr>\n",
              "    <tr>\n",
              "      <th>8</th>\n",
              "      <td>9</td>\n",
              "      <td>4.6</td>\n",
              "      <td>1210</td>\n",
              "      <td>6.323491</td>\n",
              "    </tr>\n",
              "  </tbody>\n",
              "</table>\n",
              "</div>"
            ],
            "text/plain": [
              "   primeiro digito  benford  total do digito  percentual do digito\n",
              "0                1     30.1             5456             28.513196\n",
              "1                2     17.6             2618             13.681735\n",
              "2                3     12.5             1963             10.258688\n",
              "3                4      9.7             1797              9.391168\n",
              "4                5      7.9             1760              9.197805\n",
              "5                6      6.7             1588              8.298929\n",
              "6                7      5.8             1419              7.415730\n",
              "7                8      5.1             1324              6.919258\n",
              "8                9      4.6             1210              6.323491"
            ]
          },
          "metadata": {
            "tags": []
          },
          "execution_count": 142
        }
      ]
    },
    {
      "cell_type": "code",
      "metadata": {
        "colab": {
          "base_uri": "https://localhost:8080/",
          "height": 327
        },
        "id": "HtFlgJ1qTu7Q",
        "outputId": "b9d04cc2-f62b-4acc-e428-20864e1206b2"
      },
      "source": [
        "df_rio.head(9)"
      ],
      "execution_count": 143,
      "outputs": [
        {
          "output_type": "execute_result",
          "data": {
            "text/html": [
              "<div>\n",
              "<style scoped>\n",
              "    .dataframe tbody tr th:only-of-type {\n",
              "        vertical-align: middle;\n",
              "    }\n",
              "\n",
              "    .dataframe tbody tr th {\n",
              "        vertical-align: top;\n",
              "    }\n",
              "\n",
              "    .dataframe thead th {\n",
              "        text-align: right;\n",
              "    }\n",
              "</style>\n",
              "<table border=\"1\" class=\"dataframe\">\n",
              "  <thead>\n",
              "    <tr style=\"text-align: right;\">\n",
              "      <th></th>\n",
              "      <th>primeiro digito</th>\n",
              "      <th>benford</th>\n",
              "      <th>total do digito</th>\n",
              "      <th>percentual do digito</th>\n",
              "    </tr>\n",
              "  </thead>\n",
              "  <tbody>\n",
              "    <tr>\n",
              "      <th>0</th>\n",
              "      <td>1</td>\n",
              "      <td>30.1</td>\n",
              "      <td>8596</td>\n",
              "      <td>32.936128</td>\n",
              "    </tr>\n",
              "    <tr>\n",
              "      <th>1</th>\n",
              "      <td>2</td>\n",
              "      <td>17.6</td>\n",
              "      <td>5252</td>\n",
              "      <td>20.123376</td>\n",
              "    </tr>\n",
              "    <tr>\n",
              "      <th>2</th>\n",
              "      <td>3</td>\n",
              "      <td>12.5</td>\n",
              "      <td>3210</td>\n",
              "      <td>12.299322</td>\n",
              "    </tr>\n",
              "    <tr>\n",
              "      <th>3</th>\n",
              "      <td>4</td>\n",
              "      <td>9.7</td>\n",
              "      <td>2127</td>\n",
              "      <td>8.149738</td>\n",
              "    </tr>\n",
              "    <tr>\n",
              "      <th>4</th>\n",
              "      <td>5</td>\n",
              "      <td>7.9</td>\n",
              "      <td>2047</td>\n",
              "      <td>7.843212</td>\n",
              "    </tr>\n",
              "    <tr>\n",
              "      <th>5</th>\n",
              "      <td>6</td>\n",
              "      <td>6.7</td>\n",
              "      <td>1411</td>\n",
              "      <td>5.406337</td>\n",
              "    </tr>\n",
              "    <tr>\n",
              "      <th>6</th>\n",
              "      <td>7</td>\n",
              "      <td>5.8</td>\n",
              "      <td>1134</td>\n",
              "      <td>4.344994</td>\n",
              "    </tr>\n",
              "    <tr>\n",
              "      <th>7</th>\n",
              "      <td>8</td>\n",
              "      <td>5.1</td>\n",
              "      <td>1319</td>\n",
              "      <td>5.053833</td>\n",
              "    </tr>\n",
              "    <tr>\n",
              "      <th>8</th>\n",
              "      <td>9</td>\n",
              "      <td>4.6</td>\n",
              "      <td>1003</td>\n",
              "      <td>3.843059</td>\n",
              "    </tr>\n",
              "  </tbody>\n",
              "</table>\n",
              "</div>"
            ],
            "text/plain": [
              "   primeiro digito  benford  total do digito  percentual do digito\n",
              "0                1     30.1             8596             32.936128\n",
              "1                2     17.6             5252             20.123376\n",
              "2                3     12.5             3210             12.299322\n",
              "3                4      9.7             2127              8.149738\n",
              "4                5      7.9             2047              7.843212\n",
              "5                6      6.7             1411              5.406337\n",
              "6                7      5.8             1134              4.344994\n",
              "7                8      5.1             1319              5.053833\n",
              "8                9      4.6             1003              3.843059"
            ]
          },
          "metadata": {
            "tags": []
          },
          "execution_count": 143
        }
      ]
    },
    {
      "cell_type": "code",
      "metadata": {
        "colab": {
          "base_uri": "https://localhost:8080/",
          "height": 327
        },
        "id": "QZm6P9-TaODR",
        "outputId": "48dcdd82-ad87-494b-f196-9a92b7e00798"
      },
      "source": [
        "df_londres.head(9)"
      ],
      "execution_count": 144,
      "outputs": [
        {
          "output_type": "execute_result",
          "data": {
            "text/html": [
              "<div>\n",
              "<style scoped>\n",
              "    .dataframe tbody tr th:only-of-type {\n",
              "        vertical-align: middle;\n",
              "    }\n",
              "\n",
              "    .dataframe tbody tr th {\n",
              "        vertical-align: top;\n",
              "    }\n",
              "\n",
              "    .dataframe thead th {\n",
              "        text-align: right;\n",
              "    }\n",
              "</style>\n",
              "<table border=\"1\" class=\"dataframe\">\n",
              "  <thead>\n",
              "    <tr style=\"text-align: right;\">\n",
              "      <th></th>\n",
              "      <th>primeiro digito</th>\n",
              "      <th>benford</th>\n",
              "      <th>total do digito</th>\n",
              "      <th>percentual do digito</th>\n",
              "    </tr>\n",
              "  </thead>\n",
              "  <tbody>\n",
              "    <tr>\n",
              "      <th>0</th>\n",
              "      <td>1</td>\n",
              "      <td>30.1</td>\n",
              "      <td>19527</td>\n",
              "      <td>25.522154</td>\n",
              "    </tr>\n",
              "    <tr>\n",
              "      <th>1</th>\n",
              "      <td>2</td>\n",
              "      <td>17.6</td>\n",
              "      <td>11177</td>\n",
              "      <td>14.608548</td>\n",
              "    </tr>\n",
              "    <tr>\n",
              "      <th>2</th>\n",
              "      <td>3</td>\n",
              "      <td>12.5</td>\n",
              "      <td>10124</td>\n",
              "      <td>13.232257</td>\n",
              "    </tr>\n",
              "    <tr>\n",
              "      <th>3</th>\n",
              "      <td>4</td>\n",
              "      <td>9.7</td>\n",
              "      <td>8046</td>\n",
              "      <td>10.516272</td>\n",
              "    </tr>\n",
              "    <tr>\n",
              "      <th>4</th>\n",
              "      <td>5</td>\n",
              "      <td>7.9</td>\n",
              "      <td>6764</td>\n",
              "      <td>8.840674</td>\n",
              "    </tr>\n",
              "    <tr>\n",
              "      <th>5</th>\n",
              "      <td>6</td>\n",
              "      <td>6.7</td>\n",
              "      <td>5803</td>\n",
              "      <td>7.584629</td>\n",
              "    </tr>\n",
              "    <tr>\n",
              "      <th>6</th>\n",
              "      <td>7</td>\n",
              "      <td>5.8</td>\n",
              "      <td>5542</td>\n",
              "      <td>7.243498</td>\n",
              "    </tr>\n",
              "    <tr>\n",
              "      <th>7</th>\n",
              "      <td>8</td>\n",
              "      <td>5.1</td>\n",
              "      <td>4929</td>\n",
              "      <td>6.442295</td>\n",
              "    </tr>\n",
              "    <tr>\n",
              "      <th>8</th>\n",
              "      <td>9</td>\n",
              "      <td>4.6</td>\n",
              "      <td>4598</td>\n",
              "      <td>6.009672</td>\n",
              "    </tr>\n",
              "  </tbody>\n",
              "</table>\n",
              "</div>"
            ],
            "text/plain": [
              "   primeiro digito  benford  total do digito  percentual do digito\n",
              "0                1     30.1            19527             25.522154\n",
              "1                2     17.6            11177             14.608548\n",
              "2                3     12.5            10124             13.232257\n",
              "3                4      9.7             8046             10.516272\n",
              "4                5      7.9             6764              8.840674\n",
              "5                6      6.7             5803              7.584629\n",
              "6                7      5.8             5542              7.243498\n",
              "7                8      5.1             4929              6.442295\n",
              "8                9      4.6             4598              6.009672"
            ]
          },
          "metadata": {
            "tags": []
          },
          "execution_count": 144
        }
      ]
    },
    {
      "cell_type": "code",
      "metadata": {
        "colab": {
          "base_uri": "https://localhost:8080/",
          "height": 327
        },
        "id": "uTljgybQaN9c",
        "outputId": "d1fe6c3c-fc01-4aef-eff8-92255184ad65"
      },
      "source": [
        "df_sydney.head(9)"
      ],
      "execution_count": 145,
      "outputs": [
        {
          "output_type": "execute_result",
          "data": {
            "text/html": [
              "<div>\n",
              "<style scoped>\n",
              "    .dataframe tbody tr th:only-of-type {\n",
              "        vertical-align: middle;\n",
              "    }\n",
              "\n",
              "    .dataframe tbody tr th {\n",
              "        vertical-align: top;\n",
              "    }\n",
              "\n",
              "    .dataframe thead th {\n",
              "        text-align: right;\n",
              "    }\n",
              "</style>\n",
              "<table border=\"1\" class=\"dataframe\">\n",
              "  <thead>\n",
              "    <tr style=\"text-align: right;\">\n",
              "      <th></th>\n",
              "      <th>primeiro digito</th>\n",
              "      <th>benford</th>\n",
              "      <th>total do digito</th>\n",
              "      <th>percentual do digito</th>\n",
              "    </tr>\n",
              "  </thead>\n",
              "  <tbody>\n",
              "    <tr>\n",
              "      <th>0</th>\n",
              "      <td>1</td>\n",
              "      <td>30.1</td>\n",
              "      <td>11519</td>\n",
              "      <td>34.252156</td>\n",
              "    </tr>\n",
              "    <tr>\n",
              "      <th>1</th>\n",
              "      <td>2</td>\n",
              "      <td>17.6</td>\n",
              "      <td>4536</td>\n",
              "      <td>13.487957</td>\n",
              "    </tr>\n",
              "    <tr>\n",
              "      <th>2</th>\n",
              "      <td>3</td>\n",
              "      <td>12.5</td>\n",
              "      <td>3020</td>\n",
              "      <td>8.980077</td>\n",
              "    </tr>\n",
              "    <tr>\n",
              "      <th>3</th>\n",
              "      <td>4</td>\n",
              "      <td>9.7</td>\n",
              "      <td>2701</td>\n",
              "      <td>8.031519</td>\n",
              "    </tr>\n",
              "    <tr>\n",
              "      <th>4</th>\n",
              "      <td>5</td>\n",
              "      <td>7.9</td>\n",
              "      <td>2911</td>\n",
              "      <td>8.655962</td>\n",
              "    </tr>\n",
              "    <tr>\n",
              "      <th>5</th>\n",
              "      <td>6</td>\n",
              "      <td>6.7</td>\n",
              "      <td>2439</td>\n",
              "      <td>7.252453</td>\n",
              "    </tr>\n",
              "    <tr>\n",
              "      <th>6</th>\n",
              "      <td>7</td>\n",
              "      <td>5.8</td>\n",
              "      <td>2302</td>\n",
              "      <td>6.845079</td>\n",
              "    </tr>\n",
              "    <tr>\n",
              "      <th>7</th>\n",
              "      <td>8</td>\n",
              "      <td>5.1</td>\n",
              "      <td>2198</td>\n",
              "      <td>6.535831</td>\n",
              "    </tr>\n",
              "    <tr>\n",
              "      <th>8</th>\n",
              "      <td>9</td>\n",
              "      <td>4.6</td>\n",
              "      <td>2004</td>\n",
              "      <td>5.958965</td>\n",
              "    </tr>\n",
              "  </tbody>\n",
              "</table>\n",
              "</div>"
            ],
            "text/plain": [
              "   primeiro digito  benford  total do digito  percentual do digito\n",
              "0                1     30.1            11519             34.252156\n",
              "1                2     17.6             4536             13.487957\n",
              "2                3     12.5             3020              8.980077\n",
              "3                4      9.7             2701              8.031519\n",
              "4                5      7.9             2911              8.655962\n",
              "5                6      6.7             2439              7.252453\n",
              "6                7      5.8             2302              6.845079\n",
              "7                8      5.1             2198              6.535831\n",
              "8                9      4.6             2004              5.958965"
            ]
          },
          "metadata": {
            "tags": []
          },
          "execution_count": 145
        }
      ]
    },
    {
      "cell_type": "code",
      "metadata": {
        "colab": {
          "base_uri": "https://localhost:8080/",
          "height": 327
        },
        "id": "nKw6PqI6aN17",
        "outputId": "576852c1-0504-48d2-b8cc-38ae73ed9300"
      },
      "source": [
        "df_tokyo.head(9)"
      ],
      "execution_count": 146,
      "outputs": [
        {
          "output_type": "execute_result",
          "data": {
            "text/html": [
              "<div>\n",
              "<style scoped>\n",
              "    .dataframe tbody tr th:only-of-type {\n",
              "        vertical-align: middle;\n",
              "    }\n",
              "\n",
              "    .dataframe tbody tr th {\n",
              "        vertical-align: top;\n",
              "    }\n",
              "\n",
              "    .dataframe thead th {\n",
              "        text-align: right;\n",
              "    }\n",
              "</style>\n",
              "<table border=\"1\" class=\"dataframe\">\n",
              "  <thead>\n",
              "    <tr style=\"text-align: right;\">\n",
              "      <th></th>\n",
              "      <th>primeiro digito</th>\n",
              "      <th>benford</th>\n",
              "      <th>total do digito</th>\n",
              "      <th>percentual do digito</th>\n",
              "    </tr>\n",
              "  </thead>\n",
              "  <tbody>\n",
              "    <tr>\n",
              "      <th>0</th>\n",
              "      <td>1</td>\n",
              "      <td>30.1</td>\n",
              "      <td>2806</td>\n",
              "      <td>24.639972</td>\n",
              "    </tr>\n",
              "    <tr>\n",
              "      <th>1</th>\n",
              "      <td>2</td>\n",
              "      <td>17.6</td>\n",
              "      <td>1562</td>\n",
              "      <td>13.716192</td>\n",
              "    </tr>\n",
              "    <tr>\n",
              "      <th>2</th>\n",
              "      <td>3</td>\n",
              "      <td>12.5</td>\n",
              "      <td>1774</td>\n",
              "      <td>15.577801</td>\n",
              "    </tr>\n",
              "    <tr>\n",
              "      <th>3</th>\n",
              "      <td>4</td>\n",
              "      <td>9.7</td>\n",
              "      <td>1336</td>\n",
              "      <td>11.731647</td>\n",
              "    </tr>\n",
              "    <tr>\n",
              "      <th>4</th>\n",
              "      <td>5</td>\n",
              "      <td>7.9</td>\n",
              "      <td>1227</td>\n",
              "      <td>10.774499</td>\n",
              "    </tr>\n",
              "    <tr>\n",
              "      <th>5</th>\n",
              "      <td>6</td>\n",
              "      <td>6.7</td>\n",
              "      <td>907</td>\n",
              "      <td>7.964524</td>\n",
              "    </tr>\n",
              "    <tr>\n",
              "      <th>6</th>\n",
              "      <td>7</td>\n",
              "      <td>5.8</td>\n",
              "      <td>651</td>\n",
              "      <td>5.716544</td>\n",
              "    </tr>\n",
              "    <tr>\n",
              "      <th>7</th>\n",
              "      <td>8</td>\n",
              "      <td>5.1</td>\n",
              "      <td>639</td>\n",
              "      <td>5.611170</td>\n",
              "    </tr>\n",
              "    <tr>\n",
              "      <th>8</th>\n",
              "      <td>9</td>\n",
              "      <td>4.6</td>\n",
              "      <td>486</td>\n",
              "      <td>4.267650</td>\n",
              "    </tr>\n",
              "  </tbody>\n",
              "</table>\n",
              "</div>"
            ],
            "text/plain": [
              "   primeiro digito  benford  total do digito  percentual do digito\n",
              "0                1     30.1             2806             24.639972\n",
              "1                2     17.6             1562             13.716192\n",
              "2                3     12.5             1774             15.577801\n",
              "3                4      9.7             1336             11.731647\n",
              "4                5      7.9             1227             10.774499\n",
              "5                6      6.7              907              7.964524\n",
              "6                7      5.8              651              5.716544\n",
              "7                8      5.1              639              5.611170\n",
              "8                9      4.6              486              4.267650"
            ]
          },
          "metadata": {
            "tags": []
          },
          "execution_count": 146
        }
      ]
    },
    {
      "cell_type": "markdown",
      "metadata": {
        "id": "ztWJqLxB9QLS"
      },
      "source": [
        "###Gráfico e Correlação dos dados\r\n",
        "\r\n",
        "O percentual de participação de cada dígito não é necessariamente igual ao percentual calculado a partir da fórula de Benford. Porém é possível verificar que existe uma participação muito maior do dígito 1 em relação ao dígito 2 e assim por diante, ficanso os últimos números com participações próximas. \r\n",
        "\r\n",
        "Nessa etapa vou plotar um gráfico comparando o resultado do percentual de cadadígito em relação ao percentual da Lei de Benford. Para melhorar a avaliação, apresentarei no meio do gráfico a Correlação de Pearson entre esses dois campos."
      ]
    },
    {
      "cell_type": "code",
      "metadata": {
        "id": "y5V6Su8c_aXN"
      },
      "source": [
        "#criando uma função para plotar os gráficos\r\n",
        "def monta_grafico(data,cidade):\r\n",
        "\r\n",
        "  #Calculando a correlação de Pearson e montando o texto do meio do gráfico\r\n",
        "  corp = \"Correlação = {0:4.4f}\".format(data['benford'].corr(data['percentual do digito']))\r\n",
        "\r\n",
        "  #Montando as variáveis do gráfico\r\n",
        "  fig, ax = plt.subplots(figsize=(8,5))\r\n",
        "\r\n",
        "  #Plotando o gráfico de linha com o percentual do dígito\r\n",
        "  data['percentual do digito'].plot(kind='line', linewidth=2, marker='s', ax=ax)\r\n",
        "  #plotando o gráfico de barras com o percentual da Lei de Benford\r\n",
        "  data.plot(x=\"primeiro digito\", y=\"benford\", kind=\"bar\", color='gray', ax=ax)\r\n",
        "\r\n",
        "  #inserindo título, legenda, label dos eixos e texto com correlação\r\n",
        "  ax.set_title(cidade)\r\n",
        "  ax.legend(loc='best')\r\n",
        "  ax.set_xlabel(\"Primeiros dígitos\")\r\n",
        "  ax.set_ylabel(\"Percentual de participação\")\r\n",
        "  ax.text(3,20,corp, fontsize=14)\r\n",
        "\r\n",
        "  #Plotando o gráfico completo\r\n",
        "  plt.tight_layout()"
      ],
      "execution_count": 195,
      "outputs": []
    },
    {
      "cell_type": "code",
      "metadata": {
        "colab": {
          "base_uri": "https://localhost:8080/",
          "height": 369
        },
        "id": "1pOJThsO_a_-",
        "outputId": "db12be6f-dc08-4775-d322-753f154c81eb"
      },
      "source": [
        "monta_grafico(df_cabo,\"Cidade do Cabo - África do Sul\")"
      ],
      "execution_count": 196,
      "outputs": [
        {
          "output_type": "display_data",
          "data": {
            "image/png": "[encoded data removed]",
            "text/plain": [
              "<Figure size 576x360 with 1 Axes>"
            ]
          },
          "metadata": {
            "tags": [],
            "needs_background": "light"
          }
        }
      ]
    },
    {
      "cell_type": "code",
      "metadata": {
        "colab": {
          "base_uri": "https://localhost:8080/",
          "height": 369
        },
        "id": "-dar78J5_a3Y",
        "outputId": "81a3dc26-1b99-4aec-a426-cb8ceec5df6f"
      },
      "source": [
        "monta_grafico(df_rio,\"Rio de Janeiro - Brasil\")"
      ],
      "execution_count": 197,
      "outputs": [
        {
          "output_type": "display_data",
          "data": {
            "image/png": "[encoded data removed]",
            "text/plain": [
              "<Figure size 576x360 with 1 Axes>"
            ]
          },
          "metadata": {
            "tags": [],
            "needs_background": "light"
          }
        }
      ]
    },
    {
      "cell_type": "code",
      "metadata": {
        "colab": {
          "base_uri": "https://localhost:8080/",
          "height": 369
        },
        "id": "JoekovUqIGl-",
        "outputId": "d74c3466-a808-4600-991a-e4ca202c7839"
      },
      "source": [
        "monta_grafico(df_londres,\"Londres - Inglaterra\")"
      ],
      "execution_count": 198,
      "outputs": [
        {
          "output_type": "display_data",
          "data": {
            "image/png": "[encoded data removed]",
            "text/plain": [
              "<Figure size 576x360 with 1 Axes>"
            ]
          },
          "metadata": {
            "tags": [],
            "needs_background": "light"
          }
        }
      ]
    },
    {
      "cell_type": "code",
      "metadata": {
        "colab": {
          "base_uri": "https://localhost:8080/",
          "height": 369
        },
        "id": "Qw1DpfJTIGfi",
        "outputId": "af02fffb-975b-413f-e770-1e807d2bbcdc"
      },
      "source": [
        "monta_grafico(df_sydney,\"Sydney - Austrália\")"
      ],
      "execution_count": 199,
      "outputs": [
        {
          "output_type": "display_data",
          "data": {
            "image/png": "[encoded data removed]",
            "text/plain": [
              "<Figure size 576x360 with 1 Axes>"
            ]
          },
          "metadata": {
            "tags": [],
            "needs_background": "light"
          }
        }
      ]
    },
    {
      "cell_type": "code",
      "metadata": {
        "colab": {
          "base_uri": "https://localhost:8080/",
          "height": 369
        },
        "id": "4WlwOapLIGXN",
        "outputId": "9a7c11a2-0c0e-4dbe-b57d-5cb9aab548a7"
      },
      "source": [
        "monta_grafico(df_tokyo,\"Tokyo - Japão\")"
      ],
      "execution_count": 201,
      "outputs": [
        {
          "output_type": "display_data",
          "data": {
            "image/png": "[encoded data removed]",
            "text/plain": [
              "<Figure size 576x360 with 1 Axes>"
            ]
          },
          "metadata": {
            "tags": [],
            "needs_background": "light"
          }
        }
      ]
    },
    {
      "cell_type": "markdown",
      "metadata": {
        "id": "JbC9ZzLU-jHq"
      },
      "source": [
        "##Análise\r\n",
        "\r\n",
        "Apesar dos percentuais de cada cidade não ficarem iguais aos da Lei de Benford, a correlação entre eles é bem próxima de 1, que seria uma correlação perfeita.\r\n",
        "\r\n",
        "Partindo dessa informação, acredita-se que os dados apresentados pela ArirBnb não são dados manipulados e representam uma realidade.\r\n",
        "\r\n",
        "Para uma melhor visualização, vou plotar um gráfico comparativo para cada cidade analisada"
      ]
    }
  ]
}